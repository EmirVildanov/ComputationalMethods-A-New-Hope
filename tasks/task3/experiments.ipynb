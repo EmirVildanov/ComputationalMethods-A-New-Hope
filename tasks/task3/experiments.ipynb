{
 "cells": [
  {
   "cell_type": "code",
   "execution_count": 1,
   "metadata": {
    "collapsed": true
   },
   "outputs": [],
   "source": [
    "from tasks.task2.main import *\n",
    "from tasks.task1.main import *\n",
    "from tasks.task3.main import *"
   ]
  },
  {
   "cell_type": "code",
   "execution_count": 6,
   "outputs": [
    {
     "name": "stdout",
     "output_type": "stream",
     "text": [
      "6.938893903907228e-18\n"
     ]
    }
   ],
   "source": [
    "A = np.array([[6, 5, 0],\n",
    "              [5, 1, 4],\n",
    "              [0, 4, 3]])\n",
    "b = np.array([1, 1, 1])\n",
    "\n",
    "actual = qr_solve(A,b)\n",
    "expected = np.linalg.solve(A, b)\n",
    "\n",
    "print(np.linalg.norm(actual - expected))"
   ],
   "metadata": {
    "collapsed": false,
    "pycharm": {
     "name": "#%%\n"
    }
   }
  },
  {
   "cell_type": "code",
   "execution_count": 7,
   "outputs": [
    {
     "name": "stdout",
     "output_type": "stream",
     "text": [
      "2651850998.8499684\n"
     ]
    }
   ],
   "source": [
    "n = 7\n",
    "A = generate_hilbert_matrix(n)\n",
    "b = np.random.rand(n) * 100\n",
    "\n",
    "actual = qr_solve(A,b)\n",
    "expected = np.linalg.solve(A, b)\n",
    "\n",
    "print(np.linalg.norm(actual - expected))"
   ],
   "metadata": {
    "collapsed": false,
    "pycharm": {
     "name": "#%%\n"
    }
   }
  },
  {
   "cell_type": "code",
   "execution_count": 10,
   "outputs": [
    {
     "name": "stdout",
     "output_type": "stream",
     "text": [
      "7.234986049614835e-13\n"
     ]
    }
   ],
   "source": [
    "n = 7\n",
    "A = generate_tridiagonal_matrix(n)\n",
    "b = np.random.rand(n) * 100\n",
    "\n",
    "actual = qr_solve(A,b)\n",
    "expected = np.linalg.solve(A, b)\n",
    "\n",
    "print(np.linalg.norm(actual - expected))"
   ],
   "metadata": {
    "collapsed": false,
    "pycharm": {
     "name": "#%%\n"
    }
   }
  },
  {
   "cell_type": "code",
   "execution_count": 14,
   "outputs": [
    {
     "name": "stdout",
     "output_type": "stream",
     "text": [
      "11.528729466381723\n"
     ]
    }
   ],
   "source": [
    "n = 7\n",
    "A = generate_hilbert_matrix(n)\n",
    "b = np.array([9, 15, 35, 34, 1, 67, 3], float)\n",
    "\n",
    "actual = lu_solve(A, b)\n",
    "expected = np.linalg.solve(A, b)\n",
    "print(np.linalg.norm(actual - expected))"
   ],
   "metadata": {
    "collapsed": false,
    "pycharm": {
     "name": "#%%\n"
    }
   }
  },
  {
   "cell_type": "code",
   "execution_count": 12,
   "outputs": [
    {
     "name": "stdout",
     "output_type": "stream",
     "text": [
      "1.7683731334314255e+18\n"
     ]
    }
   ],
   "source": [
    "n = 15\n",
    "A = generate_hilbert_matrix(n)\n",
    "b = np.array(np.random.rand(n) * 100, float)\n",
    "\n",
    "actual = qr_solve(A, b)\n",
    "expected = np.linalg.solve(A, b)\n",
    "print(np.linalg.norm(actual - expected))"
   ],
   "metadata": {
    "collapsed": false,
    "pycharm": {
     "name": "#%%\n"
    }
   }
  },
  {
   "cell_type": "code",
   "execution_count": 13,
   "outputs": [
    {
     "name": "stdout",
     "output_type": "stream",
     "text": [
      "1.5851698773622077e+19\n"
     ]
    }
   ],
   "source": [
    "n = 18\n",
    "A = generate_hilbert_matrix(n)\n",
    "b = np.array(np.random.rand(n) * 100, float)\n",
    "\n",
    "actual = qr_solve(A, b)\n",
    "expected = np.linalg.solve(A, b)\n",
    "print(np.linalg.norm(actual - expected))"
   ],
   "metadata": {
    "collapsed": false,
    "pycharm": {
     "name": "#%%\n"
    }
   }
  }
 ],
 "metadata": {
  "kernelspec": {
   "display_name": "Python 3",
   "language": "python",
   "name": "python3"
  },
  "language_info": {
   "codemirror_mode": {
    "name": "ipython",
    "version": 2
   },
   "file_extension": ".py",
   "mimetype": "text/x-python",
   "name": "python",
   "nbconvert_exporter": "python",
   "pygments_lexer": "ipython2",
   "version": "2.7.6"
  }
 },
 "nbformat": 4,
 "nbformat_minor": 0
}