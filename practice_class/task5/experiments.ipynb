{
 "cells": [
  {
   "cell_type": "code",
   "execution_count": 3,
   "metadata": {
    "collapsed": true
   },
   "outputs": [],
   "source": [
    "import math\n",
    "\n",
    "import  numpy as np\n",
    "\n",
    "from tasks.task1.main import generate_hilbert_matrix"
   ]
  },
  {
   "cell_type": "code",
   "execution_count": 4,
   "outputs": [],
   "source": [
    "# vary epsilon from -2 to -5 (power of 10)\n",
    "\n",
    "def degree_method_to_find_max_eig_value(A: np.array, epsilon = 10 ** (-3)):\n",
    "    n = A.shape[0]\n",
    "    x = np.ones(n)\n",
    "    previous_x = None\n",
    "    previous_value = None\n",
    "    current_value = None\n",
    "    iteration_steps = 0\n",
    "    while previous_value is None or previous_x is None or (current_value - previous_value) >= epsilon:\n",
    "        if current_value is not None:\n",
    "            previous_value = math.sqrt((x @ x) / (previous_x @ previous_x))\n",
    "        previous_x = x\n",
    "        x = A @ x\n",
    "        current_value = math.sqrt((x @ x) / (previous_x @ previous_x))\n",
    "        iteration_steps += 1\n",
    "    return (x[0] / previous_x[0]), iteration_steps\n",
    "\n",
    "def scalar_mult_method_to_find_eig_values(A: np.array, epsilon = 10 ** (-3)):\n",
    "    n = A.shape[0]\n",
    "\n",
    "    x = np.ones(n)\n",
    "    previous_x = None\n",
    "\n",
    "    y = np.ones(n)\n",
    "    previous_y = None\n",
    "    previous_value = None\n",
    "    current_value = None\n",
    "\n",
    "    iteration_steps = 0\n",
    "    while previous_value is None or previous_x is None or (current_value - previous_value) >= epsilon:\n",
    "        if current_value is not None:\n",
    "            previous_value = (x @ y) / (previous_x @ y)\n",
    "        previous_x = x\n",
    "        x = A @ x\n",
    "        current_value = (x @ y) / (previous_x @ y)\n",
    "\n",
    "        previous_y = y\n",
    "        y = A.T @ y\n",
    "\n",
    "        iteration_steps += 1\n",
    "    return (x[0] / previous_x[0]), iteration_steps"
   ],
   "metadata": {
    "collapsed": false,
    "pycharm": {
     "name": "#%%\n"
    }
   }
  },
  {
   "cell_type": "code",
   "execution_count": 11,
   "outputs": [],
   "source": [
    "def test(A: np.array):\n",
    "    eigs, vectors = np.linalg.eig(A)\n",
    "    expected = max(eigs, key=abs)\n",
    "    print(f\"Expected max: {expected}\")\n",
    "\n",
    "    epsilon = 10 ** (-5)\n",
    "\n",
    "    actual, iteration_steps = degree_method_to_find_max_eig_value(A, epsilon)\n",
    "    print(f\"Actual degree max: {actual}. Steps {iteration_steps}\")\n",
    "    discrepancy = abs(expected - actual)\n",
    "    print(f\"Discrepancy degree : {discrepancy}\")\n",
    "    print()\n",
    "    actual, iteration_steps = scalar_mult_method_to_find_eig_values(A, epsilon)\n",
    "    print(f\"Actual scalar max: {actual}. Steps {iteration_steps}\")\n",
    "    discrepancy = abs(expected - actual)\n",
    "    print(f\"Discrepancy scalar: {discrepancy}\")"
   ],
   "metadata": {
    "collapsed": false,
    "pycharm": {
     "name": "#%%\n"
    }
   }
  },
  {
   "cell_type": "code",
   "execution_count": 6,
   "outputs": [
    {
     "name": "stdout",
     "output_type": "stream",
     "text": [
      "Expected max: 11.78885007804331\n",
      "Actual degree max: 11.795811518324607. Steps 3\n",
      "Discrepancy degree : 0.006961440281296305\n",
      "\n",
      "Actual scalar max: 11.788863371108015. Steps 5\n",
      "Discrepancy scalar: 1.3293064704100743e-05\n"
     ]
    }
   ],
   "source": [
    "A = np.array([[12, 1, 3],\n",
    "              [1, 1, 0],\n",
    "              [-1, -1, 1]], float)\n",
    "test(A)"
   ],
   "metadata": {
    "collapsed": false,
    "pycharm": {
     "name": "#%%\n"
    }
   }
  },
  {
   "cell_type": "code",
   "execution_count": 7,
   "outputs": [
    {
     "name": "stdout",
     "output_type": "stream",
     "text": [
      "Expected max: 1.56705069109823\n",
      "Actual degree max: 1.5670723013281371. Steps 6\n",
      "Discrepancy degree : 2.16102299070986e-05\n",
      "\n",
      "Actual scalar max: 1.5670723013281371. Steps 6\n",
      "Discrepancy scalar: 2.16102299070986e-05\n"
     ]
    }
   ],
   "source": [
    "n = 5\n",
    "A = generate_hilbert_matrix(n)\n",
    "test(A)"
   ],
   "metadata": {
    "collapsed": false,
    "pycharm": {
     "name": "#%%\n"
    }
   }
  },
  {
   "cell_type": "code",
   "execution_count": 58,
   "outputs": [
    {
     "name": "stdout",
     "output_type": "stream",
     "text": [
      "Expected max: 1.6608853389269302\n",
      "Actual degree max: 1.6608976744359212. Steps 7\n",
      "Discrepancy degree : 1.233550899093494e-05\n",
      "\n",
      "Actual scalar max: 1.6608976744359212. Steps 7\n",
      "Discrepancy scalar: 1.233550899093494e-05\n"
     ]
    }
   ],
   "source": [
    "n = 7\n",
    "A = generate_hilbert_matrix(n)\n",
    "test(A)"
   ],
   "metadata": {
    "collapsed": false,
    "pycharm": {
     "name": "#%%\n"
    }
   }
  },
  {
   "cell_type": "code",
   "execution_count": 12,
   "outputs": [
    {
     "name": "stdout",
     "output_type": "stream",
     "text": [
      "Expected max: 1.7748831794993793\n",
      "Actual degree max: 1.7751675463503218. Steps 6\n",
      "Discrepancy degree : 0.0002843668509424635\n",
      "\n",
      "Actual scalar max: 1.7762770113330837. Steps 5\n",
      "Discrepancy scalar: 0.0013938318337043398\n"
     ]
    }
   ],
   "source": [
    "n = 11\n",
    "A = generate_hilbert_matrix(n)\n",
    "test(A)"
   ],
   "metadata": {
    "collapsed": false,
    "pycharm": {
     "name": "#%%\n"
    }
   }
  },
  {
   "cell_type": "code",
   "execution_count": 13,
   "outputs": [
    {
     "name": "stdout",
     "output_type": "stream",
     "text": [
      "Expected max: (1.951756516870085+0j)\n",
      "Actual degree max: 1.952206050293734. Steps 7\n",
      "Discrepancy degree : 0.0004495334236489512\n",
      "\n",
      "Actual scalar max: 1.9534004835581185. Steps 6\n",
      "Discrepancy scalar: 0.0016439666880334602\n"
     ]
    }
   ],
   "source": [
    "n = 25\n",
    "A = generate_hilbert_matrix(n)\n",
    "test(A)"
   ],
   "metadata": {
    "collapsed": false,
    "pycharm": {
     "name": "#%%\n"
    }
   }
  },
  {
   "cell_type": "code",
   "execution_count": 10,
   "outputs": [
    {
     "name": "stdout",
     "output_type": "stream",
     "text": [
      "Expected max: (2.301035165360249+0j)\n",
      "Actual degree max: 2.3012014364688813. Steps 12\n",
      "Discrepancy degree : 0.00016627110863209893\n",
      "\n",
      "Actual scalar max: 2.3014180811022253. Steps 11\n",
      "Discrepancy scalar: 0.0003829157419761309\n"
     ]
    }
   ],
   "source": [
    "n = 250\n",
    "A = generate_hilbert_matrix(n)\n",
    "test(A)"
   ],
   "metadata": {
    "collapsed": false,
    "pycharm": {
     "name": "#%%\n"
    }
   }
  }
 ],
 "metadata": {
  "kernelspec": {
   "display_name": "Python 3",
   "language": "python",
   "name": "python3"
  },
  "language_info": {
   "codemirror_mode": {
    "name": "ipython",
    "version": 2
   },
   "file_extension": ".py",
   "mimetype": "text/x-python",
   "name": "python",
   "nbconvert_exporter": "python",
   "pygments_lexer": "ipython2",
   "version": "2.7.6"
  }
 },
 "nbformat": 4,
 "nbformat_minor": 0
}