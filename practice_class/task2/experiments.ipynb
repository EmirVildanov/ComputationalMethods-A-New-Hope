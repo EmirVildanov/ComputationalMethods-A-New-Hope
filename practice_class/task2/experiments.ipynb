{
 "cells": [
  {
   "cell_type": "code",
   "execution_count": 1,
   "outputs": [],
   "source": [
    "from tasks.task2.main import *\n",
    "from tasks.task1.main import *"
   ],
   "metadata": {
    "collapsed": false,
    "pycharm": {
     "name": "#%%\n"
    }
   }
  },
  {
   "cell_type": "code",
   "execution_count": 2,
   "outputs": [
    {
     "name": "stdout",
     "output_type": "stream",
     "text": [
      "[-0.58226371  3.22870478 -1.98599767]\n",
      "[-0.58226371  3.22870478 -1.98599767]\n"
     ]
    }
   ],
   "source": [
    "A = np.array([[8, 3, -2], [-4, 7, 5], [3, 4, -12]], float)\n",
    "b = np.array([9, 15, 35], float)\n",
    "\n",
    "print(lu_solve(A, b))\n",
    "print(np.linalg.solve(A, b))"
   ],
   "metadata": {
    "collapsed": false,
    "pycharm": {
     "name": "#%%\n"
    }
   }
  },
  {
   "cell_type": "code",
   "execution_count": 11,
   "outputs": [
    {
     "name": "stdout",
     "output_type": "stream",
     "text": [
      "2.3714374201337736e-16\n"
     ]
    }
   ],
   "source": [
    "A = np.array([[0, 6, -1, 2, 2],\n",
    "              [0, 3, 4, 1, 7],\n",
    "              [5, 1, 0, 3, -1],\n",
    "              [3, 1, 3, 0, 2],\n",
    "              [4, 4, 1, -2, 1]], float)\n",
    "b = np.array([5, 7, 2, 3, 4], float)\n",
    "\n",
    "actual = lu_solve(A, b)\n",
    "expected = np.linalg.solve(A, b)\n",
    "print(np.linalg.norm(actual - expected))"
   ],
   "metadata": {
    "collapsed": false,
    "pycharm": {
     "name": "#%%\n"
    }
   }
  },
  {
   "cell_type": "code",
   "execution_count": 10,
   "outputs": [
    {
     "name": "stdout",
     "output_type": "stream",
     "text": [
      "2.3160859559832578e-14\n"
     ]
    }
   ],
   "source": [
    "A = np.array([[2, 4, -2], [4, 9, -3], [-2, -3, 7]], float)\n",
    "b = np.array([9, 15, 35], float)\n",
    "\n",
    "actual = lu_solve(A, b)\n",
    "expected = np.linalg.solve(A, b)\n",
    "print(np.linalg.norm(actual - expected))"
   ],
   "metadata": {
    "collapsed": false,
    "pycharm": {
     "name": "#%%\n"
    }
   }
  },
  {
   "cell_type": "code",
   "execution_count": 13,
   "outputs": [
    {
     "name": "stdout",
     "output_type": "stream",
     "text": [
      "8.690541527449943e-19\n"
     ]
    }
   ],
   "source": [
    "n = 7\n",
    "A = generate_strong_tridiagonal_matrix(n)\n",
    "b = np.array([9, 15, 35, 34, 1, 67, 3], float)\n",
    "\n",
    "actual = lu_solve(A, b)\n",
    "expected = np.linalg.solve(A, b)\n",
    "print(np.linalg.norm(actual - expected))"
   ],
   "metadata": {
    "collapsed": false,
    "pycharm": {
     "name": "#%%\n"
    }
   }
  },
  {
   "cell_type": "code",
   "execution_count": 3,
   "outputs": [
    {
     "name": "stdout",
     "output_type": "stream",
     "text": [
      "11.528729466381723\n"
     ]
    }
   ],
   "source": [
    "n = 7\n",
    "A = generate_hilbert_matrix(n)\n",
    "b = np.array([9, 15, 35, 34, 1, 67, 3], float)\n",
    "\n",
    "actual = lu_solve(A, b)\n",
    "expected = np.linalg.solve(A, b)\n",
    "print(np.linalg.norm(actual - expected))"
   ],
   "metadata": {
    "collapsed": false,
    "pycharm": {
     "name": "#%%\n"
    }
   }
  },
  {
   "cell_type": "code",
   "execution_count": 4,
   "outputs": [
    {
     "name": "stdout",
     "output_type": "stream",
     "text": [
      "1.9185121839298604e+18\n"
     ]
    }
   ],
   "source": [
    "n = 15\n",
    "A = generate_hilbert_matrix(n)\n",
    "b = np.array(np.random.rand(n) * 100, float)\n",
    "\n",
    "actual = lu_solve(A, b)\n",
    "expected = np.linalg.solve(A, b)\n",
    "print(np.linalg.norm(actual - expected))"
   ],
   "metadata": {
    "collapsed": false,
    "pycharm": {
     "name": "#%%\n"
    }
   }
  },
  {
   "cell_type": "code",
   "execution_count": 25,
   "outputs": [
    {
     "name": "stdout",
     "output_type": "stream",
     "text": [
      "2.899622845694042e+19\n"
     ]
    }
   ],
   "source": [
    "n = 18\n",
    "A = generate_hilbert_matrix(n)\n",
    "b = np.array(np.random.rand(n) * 100, float)\n",
    "\n",
    "actual = lu_solve(A, b)\n",
    "expected = np.linalg.solve(A, b)\n",
    "print(np.linalg.norm(actual - expected))"
   ],
   "metadata": {
    "collapsed": false,
    "pycharm": {
     "name": "#%%\n"
    }
   }
  },
  {
   "cell_type": "code",
   "execution_count": 34,
   "outputs": [
    {
     "name": "stdout",
     "output_type": "stream",
     "text": [
      "10^-12 -> 465253712.02972436.\n",
      "Cond = 2.8921725061172267e+96\n",
      "\n",
      "10^-11 -> 8560317.122120453.\n",
      "Cond = 4.3306167819704195e+91\n",
      "\n",
      "10^-10 -> 69939.11377021002.\n",
      "Cond = 1.7241584243187838e+86\n",
      "\n",
      "10^-9 -> 1812.379902635135.\n",
      "Cond = 1.6257899642359565e+80\n",
      "\n",
      "10^-8 -> 13.70192927457445.\n",
      "Cond = 3.446552640433404e+73\n",
      "\n",
      "10^-7 -> 0.12778145032547025.\n",
      "Cond = 1.5777344732720585e+66\n",
      "\n",
      "10^-6 -> 0.0009826045390817707.\n",
      "Cond = 1.4108767417895217e+58\n",
      "\n",
      "10^-5 -> 1.6056497903393516e-05.\n",
      "Cond = 2.2842640942793626e+49\n",
      "\n",
      "10^-4 -> 1.8798154781134387e-07.\n",
      "Cond = 6.149974260238711e+39\n",
      "\n",
      "10^-3 -> 2.8612471249873674e-09.\n",
      "Cond = 2.4690897941039935e+29\n",
      "\n",
      "10^-2 -> 2.1814842336340956e-11.\n",
      "Cond = 1.3957921416592479e+18\n",
      "\n",
      "10^-1 -> 4.341475714619014e-13.\n",
      "Cond = 3925840.8032595012\n",
      "\n"
     ]
    }
   ],
   "source": [
    "n = 15\n",
    "A = generate_hilbert_matrix(n)\n",
    "b = np.array(np.random.rand(n) * 100, float)\n",
    "\n",
    "discrepancies = []\n",
    "for i in range (-12, 0):\n",
    "    fixed = A + np.eye(n) * 10 ** i\n",
    "    cond = find_volume_criterion_condition_number(fixed)\n",
    "\n",
    "    actual = lu_solve(fixed, b)\n",
    "    expected = np.linalg.solve(fixed, b)\n",
    "    discrepancies.append((i, np.linalg.norm(actual - expected), cond))\n",
    "for power, value, cond in discrepancies:\n",
    "    print(f\"10^{power} -> {value}.\")\n",
    "    print(f\"Cond = {cond}\")\n",
    "    print()"
   ],
   "metadata": {
    "collapsed": false,
    "pycharm": {
     "name": "#%%\n"
    }
   }
  },
  {
   "cell_type": "code",
   "execution_count": 30,
   "outputs": [
    {
     "name": "stdout",
     "output_type": "stream",
     "text": [
      "10^-12 -> 923689455.692351\n",
      "10^-11 -> 5616233.493554457\n",
      "10^-10 -> 101190.83583881418\n",
      "10^-9 -> 876.3259240427483\n",
      "10^-8 -> 12.289332669808967\n",
      "10^-7 -> 0.13830356903497082\n",
      "10^-6 -> 0.001378237762861797\n",
      "10^-5 -> 1.3842032711062456e-05\n",
      "10^-4 -> 1.716405649848883e-07\n",
      "10^-3 -> 1.9495429972252665e-09\n",
      "10^-2 -> 1.112088139011688e-11\n",
      "10^-1 -> 2.369489572595538e-13\n"
     ]
    }
   ],
   "source": [
    "n = 18\n",
    "A = generate_hilbert_matrix(n)\n",
    "b = np.array(np.random.rand(n) * 100, float)\n",
    "\n",
    "discrepancies = []\n",
    "for i in range (-12, 0):\n",
    "    fixed = A + np.eye(n) * 10 ** i\n",
    "    actual = lu_solve(fixed, b)\n",
    "    expected = np.linalg.solve(fixed, b)\n",
    "    discrepancies.append((i, np.linalg.norm(actual - expected)))\n",
    "for power, value in discrepancies:\n",
    "    print(f\"10^{power} -> {value}\")"
   ],
   "metadata": {
    "collapsed": false,
    "pycharm": {
     "name": "#%%\n"
    }
   }
  }
 ],
 "metadata": {
  "kernelspec": {
   "display_name": "Python 3",
   "language": "python",
   "name": "python3"
  },
  "language_info": {
   "codemirror_mode": {
    "name": "ipython",
    "version": 2
   },
   "file_extension": ".py",
   "mimetype": "text/x-python",
   "name": "python",
   "nbconvert_exporter": "python",
   "pygments_lexer": "ipython2",
   "version": "2.7.6"
  }
 },
 "nbformat": 4,
 "nbformat_minor": 0
}