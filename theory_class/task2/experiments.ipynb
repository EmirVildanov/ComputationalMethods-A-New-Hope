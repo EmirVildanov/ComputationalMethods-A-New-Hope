{
 "cells": [
  {
   "cell_type": "markdown",
   "source": [
    "Решение интегрального уравнения первого рода\n",
    "Мой вариант -- 4\n",
    "Ядро = sin(2sx)\n",
    "\n",
    "Дано ур-ие 22 (методичка стр. 23)\n",
    "\n",
    "1) Сводим его к СЛАУ 24. Для его решения применяем метод регуляризации\n",
    "Для отладки используем функции z_1(s) = 1, z_2(s) = s(1 - s), по которым строятся соответствующие правые части u(x)\n",
    "\n",
    "2) Решаем уравнение 27 c однородными граничными условиями z(0) = z(1) = 0 (стр. 26)\n",
    "Уравнение Эйлера 32, его аппроксимация приведена на стр. 27, в итоге приводим к СЛАУ, для решения которых применяем\n",
    "первый способ и отлаживаем на тех же функциях\n",
    "\n",
    "Можем регулировать поведение функций q и r\n",
    "u_delta -- u с учётом погрешности машинного нуля\n",
    "\n",
    "\n",
    "Необходимо сравнить результаты обоих методов, привести графики и дать практические рекомендации по решению таких задач\n",
    "(выбор n и параметр регуляризации)"
   ],
   "metadata": {
    "collapsed": false,
    "pycharm": {
     "name": "#%% md\n"
    }
   }
  },
  {
   "cell_type": "code",
   "execution_count": 119,
   "outputs": [],
   "source": [
    "import numpy as np\n",
    "from typing import Tuple\n",
    "\n",
    "from numpy import float64, exp, sin, cos, log\n",
    "from scipy import integrate"
   ],
   "metadata": {
    "collapsed": false,
    "pycharm": {
     "name": "#%%\n"
    }
   }
  },
  {
   "cell_type": "code",
   "execution_count": 120,
   "outputs": [],
   "source": [
    "def find_h(a: np.float64, b: np.float64, m: int) -> np.float64:\n",
    "    return float64((b - a) / m)\n",
    "\n",
    "\n",
    "def middle_rectangle_method(function, a: np.float64, b: np.float64) -> Tuple[np.float64, np.float64]:\n",
    "    m = pow(10, 5)\n",
    "    h = float64(find_h(a, b, m))\n",
    "    start_point = a + h / 2\n",
    "    points = []\n",
    "    sum = 0\n",
    "\n",
    "    for j in range(0, m):\n",
    "        current_point = start_point + j * h\n",
    "        points.append(current_point)\n",
    "        sum += function(current_point)\n",
    "    result = h * sum\n",
    "\n",
    "    return result, points\n",
    "\n",
    "\n",
    "def find_discrepancy(expected, actual):\n",
    "    return abs(expected - actual)\n",
    "\n",
    "\n",
    "def find_norm(expected, actual):\n",
    "    assert expected.shape == actual.shape, f\"Vectors shapes differ: {expected.shape} and {actual.shape}\"\n",
    "    return np.linalg.norm(expected - actual)\n",
    "    return np.linalg.norm(expected - actual, ord=np.inf)"
   ],
   "metadata": {
    "collapsed": false,
    "pycharm": {
     "name": "#%%\n"
    }
   }
  },
  {
   "cell_type": "code",
   "execution_count": 130,
   "outputs": [],
   "source": [
    "# See task.png\n",
    "# With given K(x, s) and u(x) we should find z(x)\n",
    "def form_and_solve_linear_equation_for_integral_equation(kernel, u_func, alfa):\n",
    "    n = pow(10, 3)\n",
    "    a = 0\n",
    "    b = 1\n",
    "    h = float64(find_h(a, b, n))\n",
    "    start_point = a + h / 2\n",
    "    points = []\n",
    "\n",
    "    for j in range(n):\n",
    "        points.append(start_point + j * h)\n",
    "\n",
    "    C = np.zeros((n, n))\n",
    "    U = np.zeros(n)\n",
    "    for i in range(n):\n",
    "        U[i] = u_func(points[i])\n",
    "        for j in range(n):\n",
    "            C[i, j] = h * kernel(points[i], points[j])\n",
    "\n",
    "    solution = np.linalg.solve(C, U)\n",
    "    C_conj = C.T\n",
    "    C_reg = C_conj @ C  + alfa * np.eye(n)\n",
    "    U_reg = C_conj @ U\n",
    "    solution_reg = np.linalg.solve(C_reg, U_reg)\n",
    "\n",
    "    return points, solution, solution_reg"
   ],
   "metadata": {
    "collapsed": false,
    "pycharm": {
     "name": "#%%\n"
    }
   }
  },
  {
   "cell_type": "code",
   "execution_count": null,
   "outputs": [],
   "source": [
    "def form_and_solve_linear_euler_equation(kernel, u_func, p, r, alfa):\n",
    "    n = pow(10, 3)\n",
    "    a = 0\n",
    "    b = 1\n",
    "    h = float64(find_h(a, b, n))\n",
    "    start_point = a + h / 2\n",
    "    points = []\n",
    "\n",
    "    for j in range(n):\n",
    "        points.append(start_point + j * h)\n",
    "\n",
    "    # z(0) = z(1) = 0\n",
    "    kernel_1 = lambda s, t: integrate.quad(lambda x: kernel(x, s) * kernel(x, t), a, b)[0]\n",
    "\n",
    "    C = np.zeros((n, n))\n",
    "    U = np.zeros(n)\n",
    "    for k in range(1, n - 1):\n",
    "        U[i] = integrate.quad(lambda t: kernel(t, points[j]) * u_func(t),0, 1)[0]\\\n",
    "               - alfa * (-(p * 1))\n",
    "        for j in range(n - 1):\n",
    "            C[i, j] = h * kernel_1(points[k], points[j])\n",
    "\n",
    "    solution = [0, *np.linalg.solve(C, U), 0]\n",
    "    C_conj = C.T\n",
    "    C_reg = C_conj @ C  + alfa * np.eye(n)\n",
    "    U_reg = C_conj @ U\n",
    "    solution_reg = [0, *np.linalg.solve(C_reg, U_reg), 0]\n",
    "\n",
    "    return points, solution, solution_reg"
   ],
   "metadata": {
    "collapsed": false,
    "pycharm": {
     "name": "#%%\n"
    }
   }
  },
  {
   "cell_type": "code",
   "execution_count": 141,
   "outputs": [
    {
     "data": {
      "text/plain": "[1, 2, 3, 1.0, 1.0]"
     },
     "execution_count": 141,
     "metadata": {},
     "output_type": "execute_result"
    }
   ],
   "source": [
    "[1, 2, 3, *np.linalg.solve(np.array([[1, 0], [0, 1]]), np.array([1, 1]))]"
   ],
   "metadata": {
    "collapsed": false,
    "pycharm": {
     "name": "#%%\n"
    }
   }
  },
  {
   "cell_type": "code",
   "execution_count": 138,
   "outputs": [
    {
     "name": "stdout",
     "output_type": "stream",
     "text": [
      "Alfa = 10. Norm = 5.660157370975473\n",
      "Alfa = 1. Norm = 4.891309064973328\n",
      "Alfa = 0.1. Norm = 3.27201201546221\n",
      "Alfa = 0.01. Norm = 2.7899754148511633\n",
      "Alfa = 0.001. Norm = 1.6309388385373746\n",
      "Alfa = 0.0001. Norm = 0.5146427295398939\n",
      "Alfa = 1e-05. Norm = 0.4160717974202384\n",
      "Alfa = 1e-06. Norm = 0.3781823765565235\n",
      "Alfa = 1e-07. Norm = 0.25139820784356864\n",
      "Alfa = 1e-08. Norm = 0.2064013367609213\n",
      "Alfa = 1e-09. Norm = 0.2044315898082477\n",
      "Alfa = 1e-10. Norm = 0.19741272613177402\n",
      "Alfa = 1e-11. Norm = 0.15506210836248516\n",
      "Alfa = 1e-12. Norm = 0.10943091409387476\n"
     ]
    }
   ],
   "source": [
    "kernel = lambda x, s: sin(2 * x * s)\n",
    "\n",
    "first_test_z_function = lambda x: 1\n",
    "first_test_u_function = lambda x: (sin(x) ** 2) / x\n",
    "\n",
    "second_test_z_function = lambda x: x * (1 - x)\n",
    "second_test_u_function = lambda x: (sin(x) * (sin(x) - x * cos(x))) / (2 * x ** 3)\n",
    "\n",
    "kernel_sasha = lambda x, s: 1 / (1 + s*x)\n",
    "second_test_u_function_sasha = lambda x: (x * (x + 2) - 2 * (x + 1) * log(x + 1)) / (2 * x ** 3)\n",
    "\n",
    "for alfa in [10 ** i for i in range(1, -13, -1)]:\n",
    "# for alfa in [10 ** i for i in range(1, 10)]:  <--- doesn't work, alfa must be small\n",
    "    points, actual, actual_reg = form_and_solve_linear_equation_for_integral_equation(kernel, first_test_u_function, alfa)\n",
    "    expected = np.array([first_test_z_function(point) for point in points])\n",
    "\n",
    "    points, actual, actual_reg = form_and_solve_linear_equation_for_integral_equation(kernel_sasha, second_test_u_function_sasha, alfa)\n",
    "    expected = np.array([second_test_z_function(point) for point in points])\n",
    "\n",
    "    points, actual, actual_reg = form_and_solve_linear_equation_for_integral_equation(kernel, second_test_u_function, alfa)\n",
    "    expected = np.array([second_test_z_function(point) for point in points])\n",
    "\n",
    "    print(f\"Alfa = {alfa}. Norm = {find_norm(expected, actual_reg)}\")"
   ],
   "metadata": {
    "collapsed": false,
    "pycharm": {
     "name": "#%%\n"
    }
   }
  },
  {
   "cell_type": "code",
   "execution_count": null,
   "outputs": [],
   "source": [],
   "metadata": {
    "collapsed": false,
    "pycharm": {
     "name": "#%%\n"
    }
   }
  }
 ],
 "metadata": {
  "kernelspec": {
   "display_name": "Python 3",
   "language": "python",
   "name": "python3"
  },
  "language_info": {
   "codemirror_mode": {
    "name": "ipython",
    "version": 2
   },
   "file_extension": ".py",
   "mimetype": "text/x-python",
   "name": "python",
   "nbconvert_exporter": "python",
   "pygments_lexer": "ipython2",
   "version": "2.7.6"
  }
 },
 "nbformat": 4,
 "nbformat_minor": 0
}